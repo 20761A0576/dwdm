{
 "cells": [
  {
   "cell_type": "code",
   "execution_count": 24,
   "id": "98a0c584",
   "metadata": {},
   "outputs": [
    {
     "name": "stdout",
     "output_type": "stream",
     "text": [
      "[[ 0.07786339]\n",
      " [-0.03961813]\n",
      " [ 0.01103904]\n",
      " [-0.04069594]\n",
      " [-0.03422907]\n",
      " [ 0.00564998]\n",
      " [ 0.08864151]\n",
      " [-0.03315126]\n",
      " [-0.05686312]\n",
      " [-0.03099563]\n",
      " [ 0.05522933]\n",
      " [-0.06009656]\n",
      " [ 0.00133873]\n",
      " [-0.02345095]\n",
      " [-0.07410811]\n",
      " [ 0.01966154]\n",
      " [-0.01590626]\n",
      " [-0.01590626]\n",
      " [ 0.03906215]\n",
      " [-0.0730303 ]]\n",
      "[233.  91. 111. 152. 120.  67. 310.  94. 183.  66. 173.  72.  49.  64.\n",
      "  48. 178. 104. 132. 220.  57.]\n",
      "[233.  91. 111. 152. 120.  67. 310.  94. 183.  66. 173.  72.  49.  64.\n",
      "  48. 178. 104. 132. 220.  57.]\n",
      "[127.68427734 125.57631343 126.485252   125.55697431 125.67300902\n",
      " 126.3885564  127.87766852 125.69234814 125.26688754 125.73102638\n",
      " 127.27815585 125.20887018 126.31119993 125.86640021 124.95746164\n",
      " 126.63996494 126.00177404 126.00177404 126.98806907 124.97680076]\n",
      "mean squared error:0.017446\n"
     ]
    },
    {
     "data": {
      "image/png": "[encoded data removed]",
      "text/plain": [
       "<Figure size 432x288 with 1 Axes>"
      ]
     },
     "metadata": {
      "needs_background": "light"
     },
     "output_type": "display_data"
    }
   ],
   "source": [
    "import matplotlib.pyplot as plt\n",
    "import numpy as np\n",
    "from sklearn import datasets,linear_model\n",
    "from sklearn.metrics import mean_squared_error,r2_score\n",
    "diabetes_x,diabetes_y=datasets.load_diabetes(return_X_y=True)\n",
    "diabetes_x=diabetes_x[:,np.newaxis,2]\n",
    "diabetes_x_train=diabetes_x[:20]\n",
    "diabetes_x_test=diabetes_x[-20:]\n",
    "print(diabetes_x_test)\n",
    "diabetes_y_train=diabetes_y[-20:]\n",
    "print(diabetes_y_train)\n",
    "diabetes_y_test=diabetes_y[-20:]\n",
    "print(diabetes_y_test)\n",
    "re=linear_model.LinearRegression()\n",
    "re.fit(diabetes_x_train,diabetes_y_train)\n",
    "diabetes_y_pred=re.predict(diabetes_x_test)\n",
    "print(diabetes_y_pred)\n",
    "plt.scatter(diabetes_x_test,diabetes_y_test)\n",
    "plt.plot(diabetes_x_test,diabetes_y_pred)\n",
    "print(\"mean squared error:%2f\"%r2_score(diabetes_y_test,diabetes_y_pred))\n"
   ]
  },
  {
   "cell_type": "code",
   "execution_count": null,
   "id": "bc6f1d97",
   "metadata": {},
   "outputs": [],
   "source": []
  },
  {
   "cell_type": "code",
   "execution_count": null,
   "id": "5ea84cdc",
   "metadata": {},
   "outputs": [],
   "source": []
  }
 ],
 "metadata": {
  "kernelspec": {
   "display_name": "Python 3 (ipykernel)",
   "language": "python",
   "name": "python3"
  },
  "language_info": {
   "codemirror_mode": {
    "name": "ipython",
    "version": 3
   },
   "file_extension": ".py",
   "mimetype": "text/x-python",
   "name": "python",
   "nbconvert_exporter": "python",
   "pygments_lexer": "ipython3",
   "version": "3.9.6"
  }
 },
 "nbformat": 4,
 "nbformat_minor": 5
}
