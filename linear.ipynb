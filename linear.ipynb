{
 "cells": [
  {
   "cell_type": "code",
   "execution_count": 30,
   "id": "2e2929a2",
   "metadata": {},
   "outputs": [
    {
     "name": "stdout",
     "output_type": "stream",
     "text": [
      "   name  mark1  mark2  mark3\n",
      "0   ram     45     67     89\n",
      "1  raki     78     78     98\n",
      "2  ravi     67     98     79\n",
      "3  mani     89     79     89\n",
      "4  yogi     70     79     69\n",
      "[[45]\n",
      " [78]\n",
      " [67]\n",
      " [89]\n",
      " [70]] [67 78 98 79 79]\n",
      "score 0.10563781485084411\n",
      "intercept 64.62882508500189\n",
      "slope [0.22308274]\n",
      " [67 78 98 79 79]\n",
      " [74.66754817 82.02927843 79.57536834 84.48318852 80.24461655]\n"
     ]
    },
    {
     "data": {
      "text/plain": [
       "[<matplotlib.lines.Line2D at 0x203ffe08e20>]"
      ]
     },
     "execution_count": 30,
     "metadata": {},
     "output_type": "execute_result"
    },
    {
     "data": {
      "image/png": "[encoded data removed]",
      "text/plain": [
       "<Figure size 432x288 with 1 Axes>"
      ]
     },
     "metadata": {
      "needs_background": "light"
     },
     "output_type": "display_data"
    }
   ],
   "source": [
    "import pandas as pd\n",
    "import numpy as np\n",
    "import matplotlib.pyplot as plt\n",
    "from sklearn.linear_model import LinearRegression as lr\n",
    "mk=pd.read_csv('Desktop/dwdm/data.csv')\n",
    "print(mk)\n",
    "x=np.array(mk['mark1']).reshape(-1,1)\n",
    "y=np.array(mk['mark2'])\n",
    "print(x,y)\n",
    "model=lr()\n",
    "model.fit(x,y)\n",
    "result=model.score(x,y)\n",
    "print('score',result)\n",
    "print('intercept',model.intercept_)\n",
    "print('slope',model.coef_)\n",
    "y_p=model.predict(x)\n",
    "print('',y)\n",
    "print('',y_p)\n",
    "plt.scatter(x,y)\n",
    "plt.plot(x,y_p)\n",
    "\n"
   ]
  },
  {
   "cell_type": "code",
   "execution_count": null,
   "id": "0e949e25",
   "metadata": {},
   "outputs": [],
   "source": []
  },
  {
   "cell_type": "code",
   "execution_count": null,
   "id": "111ae3bc",
   "metadata": {},
   "outputs": [],
   "source": []
  },
  {
   "cell_type": "code",
   "execution_count": null,
   "id": "d3963e9f",
   "metadata": {},
   "outputs": [],
   "source": []
  }
 ],
 "metadata": {
  "kernelspec": {
   "display_name": "Python 3 (ipykernel)",
   "language": "python",
   "name": "python3"
  },
  "language_info": {
   "codemirror_mode": {
    "name": "ipython",
    "version": 3
   },
   "file_extension": ".py",
   "mimetype": "text/x-python",
   "name": "python",
   "nbconvert_exporter": "python",
   "pygments_lexer": "ipython3",
   "version": "3.9.6"
  }
 },
 "nbformat": 4,
 "nbformat_minor": 5
}
